{
  "nbformat": 4,
  "nbformat_minor": 0,
  "metadata": {
    "colab": {
      "name": "Unit2_L6 Assignment ",
      "provenance": [],
      "authorship_tag": "ABX9TyOkyu6AGIEWyR6kWZk0iWYh",
      "include_colab_link": true
    },
    "kernelspec": {
      "name": "python3",
      "display_name": "Python 3"
    },
    "language_info": {
      "name": "python"
    }
  },
  "cells": [
    {
      "cell_type": "markdown",
      "metadata": {
        "id": "view-in-github",
        "colab_type": "text"
      },
      "source": [
        "<a href=\"https://colab.research.google.com/github/Glizy14/micro_cred_winter_2022/blob/main/Python/Unit2_L6.ipynb\" target=\"_parent\"><img src=\"https://colab.research.google.com/assets/colab-badge.svg\" alt=\"Open In Colab\"/></a>"
      ]
    },
    {
      "cell_type": "code",
      "execution_count": null,
      "metadata": {
        "id": "H_Vpw7fB-V8G",
        "colab": {
          "base_uri": "https://localhost:8080/"
        },
        "outputId": "066eaac3-0ee1-4520-c487-1064108328df"
      },
      "outputs": [
        {
          "output_type": "stream",
          "name": "stdout",
          "text": [
            "Matt\n",
            "Evans\n",
            "The Doctor's name is Matt Evans\n"
          ]
        }
      ],
      "source": [
        "n={'first_name':'Matt','last_name':'Evans'}\n",
        "print(n['first_name'])\n",
        "print(n['last_name'])\n",
        "\n",
        "print(\"The Doctor's name is\", n['first_name'], n['last_name'])\n"
      ]
    },
    {
      "cell_type": "code",
      "source": [
        "design_1={'color':'blue','shape':'oval'}\n",
        "print(design_1)"
      ],
      "metadata": {
        "colab": {
          "base_uri": "https://localhost:8080/"
        },
        "id": "4C3hLMjobUFe",
        "outputId": "b13998fc-a522-4c8f-9d85-6906bc586059"
      },
      "execution_count": null,
      "outputs": [
        {
          "output_type": "stream",
          "name": "stdout",
          "text": [
            "{'color': 'blue', 'shape': 'oval'}\n"
          ]
        }
      ]
    },
    {
      "cell_type": "code",
      "source": [
        "Menu={'Breakfast':['cereal','sandwich'],'Lunch':['pasta','noodles','fried_rice'],'Dinner':['amala','tuwo']}\n",
        "print(Menu)\n",
        "for key, value in Menu.items():\n",
        "  print('What is for ' +key,'?')\n",
        "  print( 'I will have' ,str(value))"
      ],
      "metadata": {
        "colab": {
          "base_uri": "https://localhost:8080/"
        },
        "id": "_BTXIEl4zn8R",
        "outputId": "2a578945-f06c-45fe-b2d9-a25532084d0e"
      },
      "execution_count": null,
      "outputs": [
        {
          "output_type": "stream",
          "name": "stdout",
          "text": [
            "{'Breakfast': ['cereal', 'sandwich'], 'Lunch': ['pasta', 'noodles', 'fried_rice'], 'Dinner': ['amala', 'tuwo']}\n",
            "What is for Breakfast ?\n",
            "I will have ['cereal', 'sandwich']\n",
            "What is for Lunch ?\n",
            "I will have ['pasta', 'noodles', 'fried_rice']\n",
            "What is for Dinner ?\n",
            "I will have ['amala', 'tuwo']\n"
          ]
        }
      ]
    }
  ]
}