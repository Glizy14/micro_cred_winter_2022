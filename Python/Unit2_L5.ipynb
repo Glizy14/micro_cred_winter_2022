{
  "nbformat": 4,
  "nbformat_minor": 0,
  "metadata": {
    "colab": {
      "name": "Unit2_L5",
      "provenance": [],
      "collapsed_sections": [],
      "authorship_tag": "ABX9TyOb/1KDp9oLCuAmzlk/swy3",
      "include_colab_link": true
    },
    "kernelspec": {
      "name": "python3",
      "display_name": "Python 3"
    },
    "language_info": {
      "name": "python"
    }
  },
  "cells": [
    {
      "cell_type": "markdown",
      "metadata": {
        "id": "view-in-github",
        "colab_type": "text"
      },
      "source": [
        "<a href=\"https://colab.research.google.com/github/Glizy14/micro_cred_winter_2022/blob/main/Python/Unit2_L5.ipynb\" target=\"_parent\"><img src=\"https://colab.research.google.com/assets/colab-badge.svg\" alt=\"Open In Colab\"/></a>"
      ]
    },
    {
      "cell_type": "code",
      "execution_count": null,
      "metadata": {
        "colab": {
          "base_uri": "https://localhost:8080/"
        },
        "id": "w56ofq1_TXFR",
        "outputId": "978c5413-6cb0-448f-be4c-8c1518337d30"
      },
      "outputs": [
        {
          "output_type": "stream",
          "name": "stdout",
          "text": [
            "Welcome back! Adefy\n",
            "Welcome back! Bami\n",
            "Welcome back! Lade\n",
            "Welcome back! Lily\n",
            "Welcome back! Teddy3\n",
            "Hi there! \n"
          ]
        }
      ],
      "source": [
        "usernames=['Adefy','Bami','Lade','Lily','Teddy3','Lizy']\n",
        "\n",
        "for user in usernames:\n",
        "  if user == \"Lizy\":\n",
        "    print('Hi there! ')\n",
        "  else:\n",
        "    print('Welcome back! ' + user)"
      ]
    },
    {
      "cell_type": "code",
      "source": [
        "numbers=list(range(1,11))\n",
        "for num in numbers:\n",
        "  if num is 1:\n",
        "    print(str(num)+'st')\n",
        "  elif num is 2:\n",
        "    print(str(num)+'nd')\n",
        "  elif num is 3:\n",
        "    print(str(num)+'rd')\n",
        "  else:\n",
        "    print(str(num)+'th')"
      ],
      "metadata": {
        "id": "3lOfmq9xfAtd",
        "colab": {
          "base_uri": "https://localhost:8080/"
        },
        "outputId": "2770bf5e-620a-437b-8814-009821252b3a"
      },
      "execution_count": 7,
      "outputs": [
        {
          "output_type": "stream",
          "name": "stdout",
          "text": [
            "1st\n",
            "2nd\n",
            "3rd\n",
            "4th\n",
            "5th\n",
            "6th\n",
            "7th\n",
            "8th\n",
            "9th\n",
            "10th\n"
          ]
        }
      ]
    }
  ]
}