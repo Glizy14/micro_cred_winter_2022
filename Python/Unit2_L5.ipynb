{
  "nbformat": 4,
  "nbformat_minor": 0,
  "metadata": {
    "colab": {
      "name": "Unit2_L5",
      "provenance": [],
      "collapsed_sections": [],
      "authorship_tag": "ABX9TyPi4k8wWWyN/v53pJHqsgZN",
      "include_colab_link": true
    },
    "kernelspec": {
      "name": "python3",
      "display_name": "Python 3"
    },
    "language_info": {
      "name": "python"
    }
  },
  "cells": [
    {
      "cell_type": "markdown",
      "metadata": {
        "id": "view-in-github",
        "colab_type": "text"
      },
      "source": [
        "<a href=\"https://colab.research.google.com/github/Glizy14/micro_cred_winter_2022/blob/main/Python/Unit2_L5.ipynb\" target=\"_parent\"><img src=\"https://colab.research.google.com/assets/colab-badge.svg\" alt=\"Open In Colab\"/></a>"
      ]
    },
    {
      "cell_type": "code",
      "execution_count": 11,
      "metadata": {
        "colab": {
          "base_uri": "https://localhost:8080/"
        },
        "id": "w56ofq1_TXFR",
        "outputId": "9da37531-d810-474e-c504-02564f2cc6aa"
      },
      "outputs": [
        {
          "output_type": "stream",
          "name": "stdout",
          "text": [
            "['Adefy', 'Bami', 'Lade', 'Lily', 'Teddy3', 'Lizy']\n",
            "Welcome back! Adefy\n",
            "Welcome back! Bami\n",
            "Welcome back! Lade\n",
            "Welcome back! Lily\n",
            "Welcome back! Teddy3\n",
            "Hi there! \n"
          ]
        }
      ],
      "source": [
        "usernames=['Adefy','Bami','Lade','Lily','Teddy3','Lizy']\n",
        "print(usernames)\n",
        "\n",
        "for user in usernames:\n",
        "  if user == \"Lizy\":\n",
        "    print('Hi there! ')\n",
        "  else:\n",
        "    print('Welcome back! ' + user)"
      ]
    },
    {
      "cell_type": "code",
      "source": [
        "numbers=list(range(1,11))\n",
        "print(numbers)\n",
        "\n",
        "for num in numbers:\n",
        "  if num ==1:\n",
        "    print(str(num)+'st')\n",
        "  elif num == 2:\n",
        "    print(str(num)+'nd')\n",
        "  elif num ==3:\n",
        "    print(str(num)+'rd')\n",
        "  else:\n",
        "    print(str(num)+'th')"
      ],
      "metadata": {
        "id": "3lOfmq9xfAtd",
        "colab": {
          "base_uri": "https://localhost:8080/"
        },
        "outputId": "2723061e-f45e-4bad-ac6d-f640f04100db"
      },
      "execution_count": 12,
      "outputs": [
        {
          "output_type": "stream",
          "name": "stdout",
          "text": [
            "[1, 2, 3, 4, 5, 6, 7, 8, 9, 10]\n",
            "1st\n",
            "2nd\n",
            "3rd\n",
            "4th\n",
            "5th\n",
            "6th\n",
            "7th\n",
            "8th\n",
            "9th\n",
            "10th\n"
          ]
        }
      ]
    }
  ]
}