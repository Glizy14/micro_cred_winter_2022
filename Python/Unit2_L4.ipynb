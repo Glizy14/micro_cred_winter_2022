{
  "nbformat": 4,
  "nbformat_minor": 0,
  "metadata": {
    "colab": {
      "name": "Unit2_L4",
      "provenance": [],
      "collapsed_sections": [],
      "authorship_tag": "ABX9TyMKWNafuL3PP780K7FOD+U0",
      "include_colab_link": true
    },
    "kernelspec": {
      "name": "python3",
      "display_name": "Python 3"
    },
    "language_info": {
      "name": "python"
    }
  },
  "cells": [
    {
      "cell_type": "markdown",
      "metadata": {
        "id": "view-in-github",
        "colab_type": "text"
      },
      "source": [
        "<a href=\"https://colab.research.google.com/github/Glizy14/micro_cred_winter_2022/blob/main/Python/Unit2_L4.ipynb\" target=\"_parent\"><img src=\"https://colab.research.google.com/assets/colab-badge.svg\" alt=\"Open In Colab\"/></a>"
      ]
    },
    {
      "cell_type": "code",
      "execution_count": 22,
      "metadata": {
        "colab": {
          "base_uri": "https://localhost:8080/"
        },
        "id": "Q98PU7op7Eqp",
        "outputId": "b99253ea-e659-408f-b57a-fe7655d5fd27"
      },
      "outputs": [
        {
          "output_type": "stream",
          "name": "stdout",
          "text": [
            "['ondo', 'oyo', 'lagos', 'ekiti', 'ogun']\n",
            "Ondo is a state in southwestern Nigeria\n",
            "\n",
            "Oyo is a state in southwestern Nigeria\n",
            "\n",
            "Lagos is a state in southwestern Nigeria\n",
            "\n",
            "Ekiti is a state in southwestern Nigeria\n",
            "\n",
            "Ogun is a state in southwestern Nigeria\n",
            "\n",
            "0\n",
            "2\n",
            "4\n",
            "6\n",
            "8\n",
            "10\n",
            "12\n",
            "14\n",
            "16\n",
            "18\n",
            "20\n",
            "['ekiti', 'lagos', 'ogun', 'ondo', 'oyo']\n",
            "['ekiti', 'lagos', 'ogun']\n",
            "['ondo', 'oyo']\n"
          ]
        }
      ],
      "source": [
        "states=['ondo','oyo','lagos','ekiti','ogun']\n",
        "print(states)\n",
        "\n",
        "for st in states:\n",
        "  print(st.title()+\" is a state in southwestern Nigeria\\n\")\n",
        "\n",
        "numbers=list(range(0,21,2))\n",
        "for e_num in numbers:\n",
        "  print (e_num)\n",
        "\n",
        "states.sort()\n",
        "print(states)\n",
        "print(states[0:3])\n",
        "print(states[3:])\n",
        "\n"
      ]
    }
  ]
}