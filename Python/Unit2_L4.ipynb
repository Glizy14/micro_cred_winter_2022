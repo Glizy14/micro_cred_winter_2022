{
  "nbformat": 4,
  "nbformat_minor": 0,
  "metadata": {
    "colab": {
      "name": "Unit2_L4",
      "provenance": [],
      "collapsed_sections": [],
      "authorship_tag": "ABX9TyMQyt3OYpxPnnf7Qc1+A34w",
      "include_colab_link": true
    },
    "kernelspec": {
      "name": "python3",
      "display_name": "Python 3"
    },
    "language_info": {
      "name": "python"
    }
  },
  "cells": [
    {
      "cell_type": "markdown",
      "metadata": {
        "id": "view-in-github",
        "colab_type": "text"
      },
      "source": [
        "<a href=\"https://colab.research.google.com/github/Glizy14/micro_cred_winter_2022/blob/main/Python/Unit2_L4.ipynb\" target=\"_parent\"><img src=\"https://colab.research.google.com/assets/colab-badge.svg\" alt=\"Open In Colab\"/></a>"
      ]
    },
    {
      "cell_type": "code",
      "execution_count": 12,
      "metadata": {
        "colab": {
          "base_uri": "https://localhost:8080/"
        },
        "id": "Q98PU7op7Eqp",
        "outputId": "9969028b-82d9-486a-c4d4-87c9b6170db7"
      },
      "outputs": [
        {
          "output_type": "stream",
          "name": "stdout",
          "text": [
            "ondo\n",
            "oyo\n",
            "lagos\n",
            "ekiti\n",
            "ogun\n",
            "Ondo is a state in southwestern Nigeria\n",
            "Oyo is a state in southwestern Nigeria\n",
            "Lagos is a state in southwestern Nigeria\n",
            "Ekiti is a state in southwestern Nigeria\n",
            "Ogun is a state in southwestern Nigeria\n",
            "0\n",
            "2\n",
            "4\n",
            "6\n",
            "8\n",
            "10\n",
            "12\n",
            "14\n",
            "16\n",
            "18\n",
            "20\n",
            "['ekiti', 'lagos', 'ogun', 'ondo', 'oyo']\n",
            "['ekiti', 'lagos', 'ogun']\n",
            "['ondo', 'oyo']\n"
          ]
        }
      ],
      "source": [
        "x=['ondo','oyo','lagos','ekiti','ogun']\n",
        "for state in x:\n",
        "  print(state)\n",
        "for st in x:\n",
        "  print(st.title()+\" is a state in southwestern Nigeria\")\n",
        "numbers=list(range(0,21,2))\n",
        "for y in numbers:\n",
        "  print (y)\n",
        "x.sort()\n",
        "print(x)\n",
        "print(x[0:3])\n",
        "print(x[3:])\n",
        "\n"
      ]
    }
  ]
}