{
  "nbformat": 4,
  "nbformat_minor": 0,
  "metadata": {
    "colab": {
      "name": "Unit2_L3",
      "provenance": [],
      "authorship_tag": "ABX9TyNNM6cLMusQ9rehIeYJ4Jp2",
      "include_colab_link": true
    },
    "kernelspec": {
      "name": "python3",
      "display_name": "Python 3"
    },
    "language_info": {
      "name": "python"
    }
  },
  "cells": [
    {
      "cell_type": "markdown",
      "metadata": {
        "id": "view-in-github",
        "colab_type": "text"
      },
      "source": [
        "<a href=\"https://colab.research.google.com/github/Glizy14/micro_cred_winter_2022/blob/main/Python/Unit2_L3.ipynb\" target=\"_parent\"><img src=\"https://colab.research.google.com/assets/colab-badge.svg\" alt=\"Open In Colab\"/></a>"
      ]
    },
    {
      "cell_type": "code",
      "execution_count": null,
      "metadata": {
        "id": "wjWsHcrgJcZf"
      },
      "outputs": [],
      "source": [
        ""
      ]
    },
    {
      "cell_type": "code",
      "execution_count": 1,
      "metadata": {
        "colab": {
          "base_uri": "https://localhost:8080/"
        },
        "outputId": "d4f50827-7db3-4d88-c63a-e113923b2165",
        "id": "o3-dU3BSopzz",
        "cellView": "code"
      },
      "outputs": [
        {
          "output_type": "stream",
          "name": "stdout",
          "text": [
            "['survivor', 'prison break', 'merlin', 'game of throne', 'maid']\n",
            "['game of throne', 'maid', 'merlin', 'prison break', 'survivor']\n",
            "['survivor', 'prison break', 'merlin', 'game of throne', 'maid']\n",
            "['survivor', 'prison break', 'merlin', 'maid', 'game of throne']\n",
            "I love all  5 shows\n"
          ]
        }
      ],
      "source": [
        "tvshows=[\"survivor\",\"prison break\",\"merlin\",\"game of throne\", \"maid\"]\n",
        "print(tvshows)\n",
        "print(sorted(tvshows)) #sorted() returns a new sorted list without changing, while sort() will modify the list it is called on \n",
        "print(tvshows)\n",
        "tvshows.sort(reverse=True)\n",
        "print(tvshows)\n",
        "print(\"I love all \",len(tvshows), \"shows\")\n"
      ]
    }
  ]
}