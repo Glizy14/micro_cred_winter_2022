{
  "nbformat": 4,
  "nbformat_minor": 0,
  "metadata": {
    "colab": {
      "name": "Unit2_L3",
      "provenance": [],
      "authorship_tag": "ABX9TyP+hY930+/zecQyJNVR508r",
      "include_colab_link": true
    },
    "kernelspec": {
      "name": "python3",
      "display_name": "Python 3"
    },
    "language_info": {
      "name": "python"
    }
  },
  "cells": [
    {
      "cell_type": "markdown",
      "metadata": {
        "id": "view-in-github",
        "colab_type": "text"
      },
      "source": [
        "<a href=\"https://colab.research.google.com/github/Glizy14/micro_cred_winter_2022/blob/main/Python/Unit2_L3.ipynb\" target=\"_parent\"><img src=\"https://colab.research.google.com/assets/colab-badge.svg\" alt=\"Open In Colab\"/></a>"
      ]
    },
    {
      "cell_type": "code",
      "execution_count": null,
      "metadata": {
        "id": "wjWsHcrgJcZf"
      },
      "outputs": [],
      "source": [
        ""
      ]
    },
    {
      "cell_type": "code",
      "execution_count": null,
      "metadata": {
        "colab": {
          "base_uri": "https://localhost:8080/"
        },
        "outputId": "d87ae5b4-239c-4b66-ea7a-bd0ed9648d62",
        "id": "o3-dU3BSopzz"
      },
      "outputs": [
        {
          "output_type": "stream",
          "name": "stdout",
          "text": [
            "['survivor', 'prison break', 'merlin', 'game of throne', 'maid']\n",
            "['game of throne', 'maid', 'merlin', 'prison break', 'survivor']\n",
            "['survivor', 'prison break', 'merlin', 'game of throne', 'maid']\n",
            "['survivor', 'prison break', 'merlin', 'maid', 'game of throne']\n",
            "I love all  5 shows\n"
          ]
        }
      ],
      "source": [
        "tvshows=[\"survivor\",\"prison break\",\"merlin\",\"game of throne\", \"maid\"]\n",
        "print(tvshows)\n",
        "print(sorted(tvshows))\n",
        "print(tvshows)\n",
        "tvshows.sort(reverse=True)\n",
        "print(tvshows)\n",
        "print(\"I love all \",len(tvshows), \"shows\")\n"
      ]
    }
  ]
}