{
  "nbformat": 4,
  "nbformat_minor": 0,
  "metadata": {
    "colab": {
      "name": "Unit_L2-3 Assignment",
      "provenance": [],
      "collapsed_sections": [],
      "authorship_tag": "ABX9TyNLDCVoG7bFCoeJ571AaKMl",
      "include_colab_link": true
    },
    "kernelspec": {
      "name": "python3",
      "display_name": "Python 3"
    },
    "language_info": {
      "name": "python"
    }
  },
  "cells": [
    {
      "cell_type": "markdown",
      "metadata": {
        "id": "view-in-github",
        "colab_type": "text"
      },
      "source": [
        "<a href=\"https://colab.research.google.com/github/Glizy14/micro_cred_winter_2022/blob/main/Unit_L2_3_Assignment.ipynb\" target=\"_parent\"><img src=\"https://colab.research.google.com/assets/colab-badge.svg\" alt=\"Open In Colab\"/></a>"
      ]
    },
    {
      "cell_type": "markdown",
      "source": [
        "## **Unit2_L2**"
      ],
      "metadata": {
        "id": "ujq0pAmo6V2K"
      }
    },
    {
      "cell_type": "markdown",
      "source": [
        "Python is an interpreted, object-oriented, high-level programming language with dynamic semantics"
      ],
      "metadata": {
        "id": "PLGOKhRaxZua"
      }
    },
    {
      "cell_type": "markdown",
      "source": [
        "option b,c, and e are variable names allowed in python"
      ],
      "metadata": {
        "id": "1-Vn_Kaiyph-"
      }
    },
    {
      "cell_type": "code",
      "source": [
        "intro=\"hello there!\"\n",
        "print(intro)"
      ],
      "metadata": {
        "colab": {
          "base_uri": "https://localhost:8080/"
        },
        "id": "-vdNDlAg1hK7",
        "outputId": "0dcca8ac-e84b-459f-b3a6-8e1db1d6c9b9"
      },
      "execution_count": null,
      "outputs": [
        {
          "output_type": "stream",
          "name": "stdout",
          "text": [
            "hello there!\n"
          ]
        }
      ]
    },
    {
      "cell_type": "code",
      "source": [
        "first_name=\"gbemisola\"\n",
        "last_name=\"alese\"\n",
        "email_address= first_name+last_name+\"@gmail.com\"\n",
        "print(email_address)"
      ],
      "metadata": {
        "id": "Yld7E_jFoQpd",
        "colab": {
          "base_uri": "https://localhost:8080/"
        },
        "outputId": "4cc951ec-4446-4ca9-c6af-784ccab1c5c0"
      },
      "execution_count": null,
      "outputs": [
        {
          "output_type": "stream",
          "name": "stdout",
          "text": [
            "gbemisolaalese@gmail.com\n"
          ]
        }
      ]
    },
    {
      "cell_type": "code",
      "source": [
        "name=\"Olakunle\"\n",
        "print(name.upper())\n",
        "print(name.lower())"
      ],
      "metadata": {
        "id": "o0kQkv4Xnx2g",
        "colab": {
          "base_uri": "https://localhost:8080/"
        },
        "outputId": "e7a3abcc-8404-47ff-fea5-76e76d4dac15"
      },
      "execution_count": null,
      "outputs": [
        {
          "output_type": "stream",
          "name": "stdout",
          "text": [
            "OLAKUNLE\n",
            "olakunle\n"
          ]
        }
      ]
    },
    {
      "cell_type": "code",
      "source": [
        "day=15\n",
        "message=\"Do you want to hang out on the \" + str(day) +\"th of this month?\"\n",
        "print(message)"
      ],
      "metadata": {
        "id": "fulrNEpPnun4",
        "colab": {
          "base_uri": "https://localhost:8080/"
        },
        "outputId": "109caab1-8b22-42ba-c76a-2c3c664882f7"
      },
      "execution_count": null,
      "outputs": [
        {
          "output_type": "stream",
          "name": "stdout",
          "text": [
            "Do you want to hang out on the 15th of this month?\n"
          ]
        }
      ]
    },
    {
      "cell_type": "markdown",
      "source": [
        "## **Unit2_L3**"
      ],
      "metadata": {
        "id": "Xjyq4ajR6qLu"
      }
    },
    {
      "cell_type": "code",
      "execution_count": null,
      "metadata": {
        "colab": {
          "base_uri": "https://localhost:8080/"
        },
        "outputId": "d87ae5b4-239c-4b66-ea7a-bd0ed9648d62",
        "id": "o3-dU3BSopzz"
      },
      "outputs": [
        {
          "output_type": "stream",
          "name": "stdout",
          "text": [
            "['survivor', 'prison break', 'merlin', 'game of throne', 'maid']\n",
            "['game of throne', 'maid', 'merlin', 'prison break', 'survivor']\n",
            "['survivor', 'prison break', 'merlin', 'game of throne', 'maid']\n",
            "['survivor', 'prison break', 'merlin', 'maid', 'game of throne']\n",
            "I love all  5 shows\n"
          ]
        }
      ],
      "source": [
        "tvshows=[\"survivor\",\"prison break\",\"merlin\",\"game of throne\", \"maid\"]\n",
        "print(tvshows)\n",
        "print(sorted(tvshows))\n",
        "print(tvshows)\n",
        "tvshows.sort(reverse=True)\n",
        "print(tvshows)\n",
        "print(\"I love all \",len(tvshows), \"shows\")\n"
      ]
    },
    {
      "cell_type": "markdown",
      "source": [
        ""
      ],
      "metadata": {
        "id": "zagoncztoJmY"
      }
    }
  ]
}